{
 "cells": [
  {
   "cell_type": "code",
   "execution_count": 1,
   "metadata": {},
   "outputs": [
    {
     "name": "stderr",
     "output_type": "stream",
     "text": [
      "C:\\ProgramData\\Anaconda3\\lib\\site-packages\\gensim\\utils.py:1212: UserWarning: detected Windows; aliasing chunkize to chunkize_serial\n",
      "  warnings.warn(\"detected Windows; aliasing chunkize to chunkize_serial\")\n"
     ]
    }
   ],
   "source": [
    "import json\n",
    "import pandas as pd\n",
    "import numpy as np\n",
    "import os\n",
    "from pprint import pprint\n",
    "import gensim\n",
    "from sklearn import svm"
   ]
  },
  {
   "cell_type": "code",
   "execution_count": 2,
   "metadata": {},
   "outputs": [
    {
     "name": "stdout",
     "output_type": "stream",
     "text": [
      "{'asin': '5555991584',\n",
      " 'helpful': [4, 5],\n",
      " 'overall': 5.0,\n",
      " 'reviewText': 'The anthemic title track begins &quot;The Memory Of '\n",
      "               'Trees&quot;, her fourth CD release.  Wordless vocalizations '\n",
      "               'and forceful percussion propel this song into the '\n",
      "               'stratosphere.  &quot;Anywhere Is&quot;, the lead single from '\n",
      "               'this CD, is typical of her earlier fare like &quot;Orinoco '\n",
      "               'Flow&quot;, but contains a magic all its own.  The most '\n",
      "               'endearing aspect of this song is its lyrics.  Roma Ryan, '\n",
      "               \"Enya's long time lyricist, deserves much credit for her \"\n",
      "               'amazing lyrics on this song.  Relax and fall into the images '\n",
      "               'the music and the words make together.  &quot;Pax Deorum&quot; '\n",
      "               'is like a hurricane to me.  It begins ominously, like the calm '\n",
      "               'before the storm.  It builds into a frighteningly wicked storm '\n",
      "               'of immense proportions with strings and drums and vocals '\n",
      "               'everywhere. Then, in the middle, it stops, and small lull '\n",
      "               'transpires while angels come down and sing to us.  Then, just '\n",
      "               'as suddenly, the wind comes up again and we are back into the '\n",
      "               'thick of things.  And then, the end comes as suddenly as the '\n",
      "               'beginning.  &quot;Athair Ar Neamh&quot; is a beautiful ballad '\n",
      "               'which is more lyrical than any other ballad Enya has produced '\n",
      "               'thus far.  In this song, Enya sounds very similar to her '\n",
      "               'sister, Maire Brennan, lead singer of the group Clannad.  '\n",
      "               '&quot;From Where I Am&quot; is another solo piano piece, which '\n",
      "               'embodies the title perfectly.  I can picture myself staring at '\n",
      "               'the wide expanse of the ocean or the land from a high cliff.  '\n",
      "               '&quot;China Roses&quot; is a song of love and a song of the '\n",
      "               'past.  You can feel the slow moving but intensely powerful '\n",
      "               'energy in the undercurrent of this song.  Beautiful '\n",
      "               'synthesized sounds add to the atmosphere here.  &quot;Hope Is '\n",
      "               'A Place&quot; sounds melancholy, like someone has given up '\n",
      "               \"hope, and Enya is trying to tell them that it's not too late, \"\n",
      "               \"it's never too late.  For all in love, hope has a place in \"\n",
      "               'YOUR soul.  This is such a sweet ballad with a simplistic '\n",
      "               'arrangement.  &quot;Tea-House Moon&quot; is another '\n",
      "               'instrumental track which embodies its title perfectly.  The '\n",
      "               'sparkling synthesizers and melodies bring to mind a late '\n",
      "               'evening tea ceremony underneath a bright full moon on a late '\n",
      "               \"summer's eve.  &quot;Once You Had Gold&quot; is a soft waltz, \"\n",
      "               'a lament, if you will, of something had and lost, here and '\n",
      "               'gone.  &quot;La Sonadora&quot; is the only Enya song to be '\n",
      "               'written in Spanish, and includes some unusual but effective '\n",
      "               'chord changes.  A song to relax by.  &quot;On My Way '\n",
      "               'Home&quot; starts off with a slow organ introduction and moves '\n",
      "               'into a complex bassline as Enya travels on her journey home.  '\n",
      "               'It seems as if your mind walks while listening to this song, '\n",
      "               'with a stop in the bridge as sweet flutes massage your tired '\n",
      "               'mind.  A fabulous way to end a fabulous CD.',\n",
      " 'reviewTime': '01 3, 2001',\n",
      " 'reviewerID': 'A2EFCYXHNK06IS',\n",
      " 'reviewerName': 'Abigail Perkins \"Abby &#34;Reads Too Much&#34...',\n",
      " 'summary': 'Enya Experiments And Succeeds',\n",
      " 'unixReviewTime': 978480000}\n",
      "{'asin': '5555991584',\n",
      " 'helpful': [1, 1],\n",
      " 'overall': 5.0,\n",
      " 'reviewText': \"Just when I thought Enya couldn't possibly get any better, I \"\n",
      "               'found &quot;The Memory of Trees&quot;.  &quot;Trees&quot; is '\n",
      "               \"Enya's best album, and like &quot;Watermark&quot; and \"\n",
      "               '&quot;Shepherd Moons&quot;, each song is  a gem.  No other '\n",
      "               \"music conveys beauty, love, joy and peace the way Enya's  \"\n",
      "               'does, and &quot;Trees&quot; is no exception.  Enya is a world '\n",
      "               'treasure, and  &quot;The Memory of Trees&quot; is a must-have '\n",
      "               'for anyone who loves her  music.',\n",
      " 'reviewTime': '03 19, 2000',\n",
      " 'reviewerID': 'A1WR23ER5HMAA9',\n",
      " 'reviewerName': 'AKB',\n",
      " 'summary': 'How to improve upon perfection.',\n",
      " 'unixReviewTime': 953424000}\n",
      "{'asin': '5555991584',\n",
      " 'helpful': [0, 0],\n",
      " 'overall': 4.0,\n",
      " 'reviewText': 'Nice CD for easy listening.  My husband and I both like it '\n",
      "               'quite a bit.  Arrived in good condition and on time.',\n",
      " 'reviewTime': '02 28, 2014',\n",
      " 'reviewerID': 'A2IR4Q0GPAFJKW',\n",
      " 'reviewerName': 'Alexander',\n",
      " 'summary': 'Good listening.',\n",
      " 'unixReviewTime': 1393545600}\n",
      "{'asin': '5555991584',\n",
      " 'helpful': [0, 1],\n",
      " 'overall': 4.0,\n",
      " 'reviewText': 'I really liked this CD, especially the different languages '\n",
      "               'used in it.  I  also particularily enjoyed the light '\n",
      "               \"refreshing feel of Enya's music, this  was the first of her \"\n",
      "               \"CDs which I've listened to, and I found that Enya's  light \"\n",
      "               'voice does a lot for her music.',\n",
      " 'reviewTime': '08 13, 2000',\n",
      " 'reviewerID': 'A2V0KUVAB9HSYO',\n",
      " 'reviewerName': 'Alison Hight',\n",
      " 'summary': 'Loved It',\n",
      " 'unixReviewTime': 966124800}\n",
      "{'asin': '5555991584',\n",
      " 'helpful': [3, 3],\n",
      " 'overall': 5.0,\n",
      " 'reviewText': \"Enya's richly chorded style has smitten me once again.  A \"\n",
      "               'little bit Gregorian, a lot Celtic, combined with a soft, well '\n",
      "               'crafted execution, gives us a CD anyone can enjoy and relax '\n",
      "               'with.  Enya performs all the instruments and vocals on the '\n",
      "               'album.  Her vocal style is willowy and sweet, which blends '\n",
      "               'with the synthesizer and piano accompaniment perfectly.This is '\n",
      "               \"great &quot;Hot Tub&quot; or massage music.  If you're not so \"\n",
      "               'lucky as to have both a tub and a masseuse available, just try '\n",
      "               'a recliner with a glass of wine.  Enya has given us more great '\n",
      "               'music, still with her unique perspective of flow and rhythm.  '\n",
      "               'Her music remains timeless and fresh years after its release.',\n",
      " 'reviewTime': '12 7, 2001',\n",
      " 'reviewerID': 'A1J0GL9HCA7ELW',\n",
      " 'reviewerName': 'Al the Pal \"Al the Pal\"',\n",
      " 'summary': 'Another Hauntingly Beautiful Collection of Songs',\n",
      " 'unixReviewTime': 1007683200}\n",
      "{'asin': '5555991584',\n",
      " 'helpful': [3, 3],\n",
      " 'overall': 5.0,\n",
      " 'reviewText': 'It\\'s hard to believe \"Memory of Trees\" came out 11 years '\n",
      "               \"ago;it has held up well over the passage of time.It's Enya's \"\n",
      "               'last great album before the New Age/pop of \"Amarantine\" and '\n",
      "               '\"Day without rain.\" Back in 1995,Enya still had her creative '\n",
      "               'spark,her own voice.I agree with the reviewer who said that '\n",
      "               'this is her saddest album;it is melancholy,bittersweet,from '\n",
      "               'the opening title song.\"Memory of Trees\" is '\n",
      "               'elegaic&majestic.;\"Pax Deorum\" sounds like it is from a '\n",
      "               'Requiem Mass,it is a dark threnody.Unlike the reviewer who '\n",
      "               'said that this has a \"disconcerting\" blend of '\n",
      "               \"spirituality&sensuality;,I don't find it disconcerting at \"\n",
      "               'all.\"Anywhere is\" is a hopeful song,looking to '\n",
      "               'possibilities.\"Hope has a place\" is about love,but it is up to '\n",
      "               \"the listener to decide if it is romantic,platonic,etc.I've \"\n",
      "               'always had a soft spot for this song.\"On my way home\" is a '\n",
      "               'triumphant ending about return.This is truly a masterpiece of '\n",
      "               'New Age music,a must for any Enya fan!',\n",
      " 'reviewTime': '09 12, 2006',\n",
      " 'reviewerID': 'A3EBHHCZO6V2A4',\n",
      " 'reviewerName': 'Amaranth \"music fan\"',\n",
      " 'summary': \"Enya's last great album\",\n",
      " 'unixReviewTime': 1158019200}\n",
      "{'asin': '5555991584',\n",
      " 'helpful': [1, 3],\n",
      " 'overall': 3.0,\n",
      " 'reviewText': \"I am an enya fan and like her cd's. on this cd I do have to \"\n",
      "               'skip over song 2 and 3, song 2 just sticks out like a song I '\n",
      "               \"would hear my kids singing so I can't listen to it for long \"\n",
      "               'and since I listen to this cd as I commute to sacramento Song '\n",
      "               \"3 chants sacramento mayo dayo, it's like another reminder that \"\n",
      "               \"I'm commuting, but besides that I really do enjoy the cd. It's \"\n",
      "               'just something different to listen to.',\n",
      " 'reviewTime': '09 22, 2007',\n",
      " 'reviewerID': 'A340XJYJDFSMUG',\n",
      " 'reviewerName': 'Amazon Customer \"Arlu\"',\n",
      " 'summary': 'Something Different',\n",
      " 'unixReviewTime': 1190419200}\n",
      "{'asin': '5555991584',\n",
      " 'helpful': [0, 0],\n",
      " 'overall': 5.0,\n",
      " 'reviewText': \"I'm not a huge, know it all Enya fan.  But I do like her music \"\n",
      "               \"very much.  Of the few CD's I've heard by Enya, this is my \"\n",
      "               'favorite.  I LOVE the song Anywhere Is (track 2).  It is '\n",
      "               'pleasent and uplifting.  It makes me smile and want to twirl '\n",
      "               \"in circles.  Maybe this doesn't help anyone else want to buy \"\n",
      "               'the CD, but if you need some incentive: the CD is soothing and '\n",
      "               'light to listen to. It would be a great CD to buy if that is '\n",
      "               'the type of thing you are looking for.',\n",
      " 'reviewTime': '12 1, 2000',\n",
      " 'reviewerID': 'A3Q1J7VFGG80EK',\n",
      " 'reviewerName': 'Amber',\n",
      " 'summary': 'Memory of Trees or My favorite Enya CD',\n",
      " 'unixReviewTime': 975628800}\n",
      "{'asin': '5555991584',\n",
      " 'helpful': [6, 8],\n",
      " 'overall': 5.0,\n",
      " 'reviewText': 'This is my very favorite Enya album to date. Even writing a '\n",
      "               'review of it will not come close to my inner feelings about '\n",
      "               'its music. The first song, the title track &quot;The Memory of '\n",
      "               \"Trees&quot;, is the most beautiful song I've ever heard. From \"\n",
      "               'quiet strings to layered voices and shy piano to an '\n",
      "               'orchestral-sounding climax with percussion and complex vocal '\n",
      "               'parts, this song is gorgeously triumphant. &quot;Anywhere '\n",
      "               'Is&quot; is a catchy but beautiful song that brings to mind '\n",
      "               'wandering through a maze. Another highlight of the album is '\n",
      "               '&quot;Pax Deorum&quot;. The first time I heard it, I thought '\n",
      "               'of a group of hooded figures in a dimly-lit temple performing '\n",
      "               'a ceremony. Enya shows off her low range with this piece. It '\n",
      "               'is also interesting that she combines two different languages '\n",
      "               'with two different religious ideas: the polytheism of the '\n",
      "               'Romans (the Latin part) and the monotheism of the Christians '\n",
      "               '(the Irish Gaelic part). Another tidbit: The Irish Gaelic part '\n",
      "               'in &quot;Pax Deorum&quot; uses the same melody and text as the '\n",
      "               'following, breathtaking piece, &quot;Athair ar Neamh&quot;. '\n",
      "               'Being Catholic (a Christian denomination), I am sure that this '\n",
      "               'song (whose title translates into &quot;Heavenly Father&quot;) '\n",
      "               'has a personal meaning for Enya. &quot;From Where I Am&quot; '\n",
      "               'is also another beautiful but quiet song, an emotion-packed '\n",
      "               'instrumental. Enya certainly proves that you can be very quiet '\n",
      "               'but still display strong feelings. From the joy of &quot;China '\n",
      "               'Roses&quot; to the tranquility of &quot;Tea-house Moon&quot; '\n",
      "               'and the expectantcy of &quot;On My Way Home,&quot; _The Memory '\n",
      "               \"of Trees_ is one of Enya's most wonderful works. I strongly \"\n",
      "               'recommend (and LOVE) this album. Brilliant!',\n",
      " 'reviewTime': '06 25, 2001',\n",
      " 'reviewerID': 'A1REP2FMPOXV4A',\n",
      " 'reviewerName': 'Andrew G.',\n",
      " 'summary': 'In a word, perfection',\n",
      " 'unixReviewTime': 993427200}\n",
      "{'asin': '5555991584',\n",
      " 'helpful': [1, 1],\n",
      " 'overall': 5.0,\n",
      " 'reviewText': 'I love, love love love love The Memory of Trees by '\n",
      "               'Enya.Especially the vocals.The singing is the best!',\n",
      " 'reviewTime': '06 15, 2003',\n",
      " 'reviewerID': 'A3QEKUPBPQ7A2S',\n",
      " 'reviewerName': 'Archer',\n",
      " 'summary': 'I could listen to this album all day!',\n",
      " 'unixReviewTime': 1055635200}\n"
     ]
    }
   ],
   "source": [
    "with open(r'C:\\Users\\inmmj\\Desktop\\4학년1학기\\기계학습\\RnE\\RnE\\data\\reviews_Digital_Music.json') as f_r:\n",
    "    for line in f_r.readlines()[:10]:\n",
    "        each = json.loads(line)\n",
    "        rating = each['overall']\n",
    "        pprint(each)\n",
    "word2vec_model = gensim.models.Word2Vec.load(r'C:\\Users\\inmmj\\Desktop\\4학년1학기\\기계학습\\RnE\\RnE\\Word2vec\\wiki_en_model')\n",
    "\n",
    "rating_5_count = 0\n",
    "rating_1_count = 0\n",
    "\n",
    "train_list = []\n",
    "\n",
    "with open(r'C:\\Users\\inmmj\\Desktop\\4학년1학기\\기계학습\\RnE\\RnE\\data\\reviews_Digital_Music.json', 'r') as f_r:\n",
    "    for line in f_r.readlines():\n",
    "        each = json.loads(line)\n",
    "        rating = each['overall']\n",
    "        \n",
    "        if rating == 5.0 and rating_5_count < 20000:\n",
    "            rating_5_count += 1\n",
    "            each['class_label'] = 1\n",
    "            train_list.append(each)\n",
    "        elif rating == 1.0 and rating_1_count < 20000:\n",
    "            rating_1_count += 1\n",
    "            each['class_label'] = 0\n",
    "            train_list.append(each)"
   ]
  },
  {
   "cell_type": "code",
   "execution_count": 3,
   "metadata": {},
   "outputs": [
    {
     "name": "stderr",
     "output_type": "stream",
     "text": [
      "C:\\ProgramData\\Anaconda3\\lib\\site-packages\\ipykernel_launcher.py:15: DeprecationWarning: Call to deprecated `__getitem__` (Method will be removed in 4.0.0, use self.wv.__getitem__() instead).\n",
      "  from ipykernel import kernelapp as app\n"
     ]
    },
    {
     "name": "stdout",
     "output_type": "stream",
     "text": [
      "40000\n",
      "Wall time: 1min 9s\n"
     ]
    }
   ],
   "source": [
    "%%time\n",
    "df = pd.DataFrame(train_list)\n",
    "\n",
    "train_X = []\n",
    "train_Y = []\n",
    "\n",
    "for class_label, reviews in df.groupby('class_label'):\n",
    "    for each in reviews.iterrows():\n",
    "        review = each[1]['reviewText'].lower()\n",
    "        words = review.split(' ')\n",
    "        svec = np.zeros(word2vec_model.vector_size)\n",
    "        count = 0\n",
    "        \n",
    "        for word in words:\n",
    "            if word in word2vec_model.wv.vocab:\n",
    "                svec += word2vec_model[word]\n",
    "                count += 1\n",
    "        if count > 0:\n",
    "            svec /= count\n",
    "            \n",
    "        train_X.append(svec)\n",
    "        train_Y.append(class_label)\n",
    "print(len(train_Y))"
   ]
  },
  {
   "cell_type": "code",
   "execution_count": 4,
   "metadata": {},
   "outputs": [
    {
     "data": {
      "text/plain": [
       "40000"
      ]
     },
     "execution_count": 4,
     "metadata": {},
     "output_type": "execute_result"
    }
   ],
   "source": [
    "len(train_X)\n"
   ]
  },
  {
   "cell_type": "code",
   "execution_count": 5,
   "metadata": {},
   "outputs": [
    {
     "data": {
      "text/plain": [
       "SVC(C=1.0, cache_size=200, class_weight=None, coef0=0.0,\n",
       "  decision_function_shape='ovr', degree=3, gamma='auto', kernel='linear',\n",
       "  max_iter=-1, probability=False, random_state=None, shrinking=True,\n",
       "  tol=0.001, verbose=False)"
      ]
     },
     "execution_count": 5,
     "metadata": {},
     "output_type": "execute_result"
    }
   ],
   "source": [
    "clf = svm.SVC(kernel='linear')\n",
    "clf.fit(train_X, train_Y)"
   ]
  },
  {
   "cell_type": "code",
   "execution_count": 6,
   "metadata": {},
   "outputs": [],
   "source": [
    "def test(query_sentence):\n",
    "    query_words = query_sentence.split(' ')\n",
    "    svec = np.zeros(word2vec_model.vector_size)\n",
    "    count = 0\n",
    "    for query_word in query_words:\n",
    "        if query_word in word2vec_model.wv.vocab:\n",
    "            svec += word2vec_model[query_word]\n",
    "            count += 1\n",
    "\n",
    "    if count > 0:\n",
    "        svec = svec/count\n",
    "    \n",
    "    result = clf.predict([svec])\n",
    "    return result"
   ]
  },
  {
   "cell_type": "code",
   "execution_count": 7,
   "metadata": {},
   "outputs": [
    {
     "name": "stdout",
     "output_type": "stream",
     "text": [
      "긍정\n"
     ]
    },
    {
     "name": "stderr",
     "output_type": "stream",
     "text": [
      "C:\\ProgramData\\Anaconda3\\lib\\site-packages\\ipykernel_launcher.py:7: DeprecationWarning: Call to deprecated `__getitem__` (Method will be removed in 4.0.0, use self.wv.__getitem__() instead).\n",
      "  import sys\n"
     ]
    }
   ],
   "source": [
    "predict_result = test(\"I love the sound\")\n",
    "\n",
    "if predict_result:\n",
    "    print('긍정')\n",
    "else:\n",
    "    print('부정')"
   ]
  },
  {
   "cell_type": "code",
   "execution_count": null,
   "metadata": {},
   "outputs": [],
   "source": []
  }
 ],
 "metadata": {
  "kernelspec": {
   "display_name": "Python 3",
   "language": "python",
   "name": "python3"
  },
  "language_info": {
   "codemirror_mode": {
    "name": "ipython",
    "version": 3
   },
   "file_extension": ".py",
   "mimetype": "text/x-python",
   "name": "python",
   "nbconvert_exporter": "python",
   "pygments_lexer": "ipython3",
   "version": "3.6.5"
  }
 },
 "nbformat": 4,
 "nbformat_minor": 2
}
